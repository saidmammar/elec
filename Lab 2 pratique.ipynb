{
 "cells": [
  {
   "cell_type": "markdown",
   "metadata": {},
   "source": [
    "## Partie pratique sur Digilent Discovery 2"
   ]
  },
  {
   "cell_type": "markdown",
   "metadata": {},
   "source": [
    "### Présentation générale\n",
    "\n",
    "Les entrées sorties sont repérées selon un code couleur selon la figure ci-dessous. On  y distingue :\n",
    "- Les entrées-sorties numériques\n",
    "- Les deux voies d’oscilloscope (-50V, 50V)\n",
    "- Quatre masses\n",
    "- 2 entrées trigger\n",
    "- Deux générateurs de fonctions \n",
    "- Deux tensions V+ (0-5V) et V- (-5-0V) \n",
    "\n",
    "\n",
    "<img src=\"./images/Lab2/connectique.png\" />"
   ]
  },
  {
   "cell_type": "markdown",
   "metadata": {},
   "source": [
    "### Calibrage de la Discovery 2\n",
    "Le calibrage concerne les deux générateurs de fonctions (en utilisant un multimètre) puis du zéro des deux voies de l’oscilloscope et des sources d’alimentation. Le calibrage se fait via la boîte de dialogue de la Discovery 2, sous le logiciel waveforms.\n",
    "\n",
    "#### Générateurs de fonctions\n",
    "#### Oscilloscope\n",
    "#### Alimentations\n",
    "\n",
    "https://reference.digilentinc.com/learn/instrumentation/tutorials/ad2-calibration/start"
   ]
  },
  {
   "cell_type": "markdown",
   "metadata": {},
   "source": [
    "Il est possible d’effacer le calibrage pour un retour aux réglages usine. \n"
   ]
  },
  {
   "cell_type": "markdown",
   "metadata": {},
   "source": [
    "### Test du filtre RC\n",
    "Examiner le circuit de la figure ci-dessous et vérifier les éléments suivants : \n",
    "\n",
    "- Générateur de fonction entre W1 (jaune) et la masse (noir)\n",
    "- Mesure de la tension d'entrée sur 1+ (orange) et 1- (orange-blanc), voie 1\n",
    "- Mesure de la tension aux bornes du condensateur 2+ (bleu) et 2- (bleu-blanc) \n",
    "- Relier les trois fils 1-, 2- et la masse"
   ]
  },
  {
   "cell_type": "markdown",
   "metadata": {},
   "source": [
    "1. Lancer le logiciel WaveForms 2015\n",
    "Real Analog Lab Module\n",
    "Basic Band Pass Filters\n",
    "© 2012 Analog Devices Inc., and Digilent, Inc.\n",
    "1 \n",
    "A Band Pass Filter allows a specific range of frequencies to pass, while blocking lower and higher frequencies. It \n",
    "passes frequencies between two cut-off frequencies while attenuating frequencies outside the cut-off frequencies. \n",
    "A good application of a band pass filter is in audio signal processing, where a specific range of desired frequencies \n",
    "of sound are passed while blocking the rest. Another application is in the selection of a specific signal from a range \n",
    "of signals in communication systems. \n",
    "A band pass filter may be constructed by cascading a High Pass RL filter with a roll-off frequency f\n",
    "L\n",
    " and a Low \n",
    "Pass RC filter with a roll-off frequency f\n",
    "H\n",
    ". The Lower cut-off frequency is given as: \n",
    " ᡘ\n",
    "〓\n",
    "㐄,,0,000\n",
    "ᡄ\n",
    "2.ᠸ\n",
    "㐕\n",
    " and the higher \n",
    "cut-off frequency is given as: \n",
    " ᡘ\n",
    "〉\n",
    "㐄\n",
    "1\n",
    "2.ᡄᠩ\n",
    "㐕\n",
    " . The Band Width of the frequencies passed is given by:\n",
    " ᠨᡉ 㐄 ᡘ\n",
    "〉\n",
    "㎘\n",
    "ᡘ\n",
    "〓\n",
    "1)\n",
    "Build the circuit shown in figure, preferably on your solderless breadboard.  \n",
    "Figure 1 LC band pass filter \n",
    "2)\n",
    "Connect waveform generator 1 and the two scope channels to the RC circuit as shown. \n",
    "3)\n",
    "Start the Waveforms software. \n",
    "4)\n",
    "Start up the WaveGen tool. In the AWG window, set the excitation signal for the band pass filter circuit: \n",
    "Shape = Sine, Frequency = 63KHz, Amplitude = 2V, Offset = 0V, Phase = 0. Click Run All or Run AWG1. \n",
    "5)\n",
    "Start the Scope tool. Set the scope for a good view of the excitation and output signals: Trigger Mode = \n",
    "Auto, Trigger Source = Channel 1, Trigger Cond. = Rising, Trigger Level = 0V, Time Base = 5us/div, \n",
    "Channel 1 and Channel 2 Offset = 0V, Range = 1V/div. Click Run. \n"
   ]
  }
 ],
 "metadata": {
  "kernelspec": {
   "display_name": "Python 3",
   "language": "python",
   "name": "python3"
  },
  "language_info": {
   "codemirror_mode": {
    "name": "ipython",
    "version": 3
   },
   "file_extension": ".py",
   "mimetype": "text/x-python",
   "name": "python",
   "nbconvert_exporter": "python",
   "pygments_lexer": "ipython3",
   "version": "3.6.4"
  }
 },
 "nbformat": 4,
 "nbformat_minor": 2
}
