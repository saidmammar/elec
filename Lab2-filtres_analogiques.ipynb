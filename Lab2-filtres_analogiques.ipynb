{
 "cells": [
  {
   "cell_type": "markdown",
   "metadata": {},
   "source": [
    "# TP 2 : Etude des filtres actifs et passifs\n",
    "\n",
    "L'objectif de ce TP est l'étude des filtres passifs et actifs, nous verrons la façon de les caractériser puis nous examinerons les montages électroniques permettant de les réaliser. \n",
    "\n",
    "## Caractéristiques d'un filtre passe-bas\n",
    "\n",
    "La courbe de gain et la courbe de phase d'un filtre passe-bas sont données sur la figure suivante. On y distingue les éléments suivants :\n",
    "- La bande passante, pour laquelle le signal d'entrée doit être préservé (gain = 1)\n",
    "- La pulsation de coupure, pour laquelle le gain vaut $\\frac{1}{\\sqrt{2}}$\n",
    "- La bande d'arrêt, pour laquelle le signal d'entrée doit être atténué (gain très inférieur à 1)\n",
    "- la pente ou l'atténuation dans la bande d'arrêt directement liée à l'ordre du filtre ($-20 \\times n $ dB)\n",
    "- Le déphasge dans la bande passante, qui fournit une indication sur le temps de retard de groupe entre l'entrée et la sortie."
   ]
  },
  {
   "cell_type": "markdown",
   "metadata": {},
   "source": [
    "<img src=\"./images/Lab2/1.png\" />"
   ]
  },
  {
   "cell_type": "markdown",
   "metadata": {},
   "source": [
    "La figure suivante montre le diagramme de Bode d'un filtre du 1er ordre avec une atténuation de 20 dB par décade. "
   ]
  },
  {
   "cell_type": "markdown",
   "metadata": {},
   "source": [
    "<img src=\"./images/Lab2/3.png\" />"
   ]
  },
  {
   "cell_type": "markdown",
   "metadata": {},
   "source": [
    "# Filtres passifs"
   ]
  },
  {
   "cell_type": "markdown",
   "metadata": {},
   "source": [
    "La forme la plus simple d'un filtre passe-bas est une cellule RC, comme sur le schéma ci-dessous en se restraignant à (R1,C1). En prenant la sortie aux bornes de C1, la fonction de transferte est alors (on applique le diviseur de tension :\n",
    "\n",
    "$\n",
    "V_{C1}(p)=\\frac{\\frac{1}{C_1p}}{R_1 + \\frac{1}{C_1p}}\n",
    "$\n",
    "\n",
    "qui s'écrit aussi \n",
    "\n",
    "$\n",
    "V_{C1}(p)=\\frac{1}{1 + R_1 C_1 p}\n",
    "$\n",
    "\n",
    "On notera qu'en notation complexe, on obtient :\n",
    "\n",
    "$\n",
    "V_{C1}(j \\omega)=\\frac{1}{1 + j R_1 C_1 \\omega}\n",
    "$\n",
    "\n",
    "Ce qui donne bien un  gain de $1$ en basses fréquences $\\omega = 0$ et une équivalence en $\\frac{1}{j R_1 C_1 \\omega}$ quand $\\omega \\to \\infty$ et qui tend donc vers 0. \n"
   ]
  },
  {
   "cell_type": "markdown",
   "metadata": {},
   "source": [
    "<img src=\"./images/Lab2/4.png\" />"
   ]
  },
  {
   "cell_type": "markdown",
   "metadata": {},
   "source": [
    "On obtient des filtres d'ordre supérieurs en mettant en cascade des cellules $R_i C_i$ comme sur la figure ci-dessus. Nous avons à titre d'exemple pour la mise en cascade de deux cellules, un filtre du second ordre de fonction de transfert (à calculer en utilisant le théorème de Millman)\n"
   ]
  },
  {
   "cell_type": "markdown",
   "metadata": {},
   "source": [
    "Théorème de Millman au point 1 : \n",
    "\n",
    "$\n",
    "V_1(p)=\\frac{\\frac{V_{in}}{R_1} + \\frac{V_{out}}{R_2}}{\\frac{1}{R_1} + \\frac{1}{R_2} + C_1 p}\n",
    "$\n",
    "\n",
    "ou encore \n",
    "\n",
    "$\n",
    "V_1(p)=\\frac{{V_{in}}{R_2} + {V_{out}}{R_1}}{{R_1} + {R_2} + R_1 R_2 C_1 p}\n",
    "$"
   ]
  },
  {
   "cell_type": "markdown",
   "metadata": {},
   "source": [
    "L'application du diviseur de tension donne par la suite \n",
    "\n",
    "$\n",
    "V_{out}(p)=\\frac{1}{1 + R_2 C_2 p} V_1\n",
    "$\n"
   ]
  },
  {
   "cell_type": "markdown",
   "metadata": {},
   "source": [
    "En remplaçant $V_1(p)$ par sa valeur, on obtient : \n",
    "\n",
    "$\n",
    "(1 + R_2 C_2 p)({{R_1} + {R_2} + R_1 R_2 C_1 p})V_{out}(p) = {V_{in}}{R_2} + {V_{out}}{R_1}\n",
    "$"
   ]
  },
  {
   "cell_type": "markdown",
   "metadata": {},
   "source": [
    "Tous calculs faits, on obtient finalement la fonction de transfert $H_2(p)$\n",
    "\n",
    "$\n",
    "H(p)=\\frac{V_{out}(p)}{V_{in}(p)}=\\frac{1}{ 1 + (R_{2} C_2 +R_1(C_1+C_2))p + R_1 R_{2}C_1C_2 p^2}\n",
    "$"
   ]
  },
  {
   "cell_type": "markdown",
   "metadata": {},
   "source": [
    "Posons  \n",
    "\n",
    "$\n",
    "\\omega_0^2=\\frac{1}{ R_1 R_{2}C_1C_2}\n",
    "$\n"
   ]
  },
  {
   "cell_type": "markdown",
   "metadata": {},
   "source": [
    "### Cas 1 $R_1=R_2=R$ et $C_1=C_2=C$ "
   ]
  },
  {
   "cell_type": "markdown",
   "metadata": {},
   "source": [
    "Dans le cas de résistances et condensateurs de valeurs égales $(R_i = R)$ et $(C_i = C)$, on aura \n",
    "\n",
    "$\n",
    "\\omega_0=\\frac{1}{ RC}\n",
    "$\n",
    "\n",
    "et la fonction de transfert se met sous la forme simplifiée \n",
    "$\n",
    "H(p)=\\frac{1}{ 1 + 3 \\frac{p}{\\omega_0} +\\frac{p^2}{\\omega_0^2}}\n",
    "$\n",
    "\n",
    "Il faut noter que le dénominateur de ce filtre peut se mettre sous la forme \n",
    "\n",
    "$\n",
    "H(p)=\\frac{1}{ (1+\\tau_1 p)(1 + \\tau_2 p)} \n",
    "$\n",
    "\n",
    "C'est donc deux premiers ordre en cascade. Il n'y a pas d'amortissement. Il faudrait pour cela utiliser une cellule $(R, L, C)$."
   ]
  },
  {
   "cell_type": "markdown",
   "metadata": {},
   "source": [
    "Le calcul des deux fréquences de coupure donnent \n",
    "\n",
    "$\n",
    "\\omega_1 = \\frac{1}{\\tau_1}=\\frac{3+\\sqrt{5}}{2}\\omega_0\n",
    "$\n",
    "\n",
    "$\n",
    "\\omega_2 = \\frac{1}{\\tau_2}=\\frac{3-\\sqrt{5}}{2}\\omega_0\n",
    "$"
   ]
  },
  {
   "cell_type": "code",
   "execution_count": 1,
   "metadata": {},
   "outputs": [
    {
     "data": {
      "image/png": "[encoded data removed]",
      "text/latex": [
       "$$\\left \\{ w_{0} \\left(- \\frac{3}{2} - \\frac{\\sqrt{5}}{2}\\right) : 1, \\quad w_{0} \\left(- \\frac{3}{2} + \\frac{\\sqrt{5}}{2}\\right) : 1\\right \\}$$"
      ],
      "text/plain": [
       "⎧   ⎛  3   √5⎞        ⎛  3   √5⎞   ⎫\n",
       "⎨w₀⋅⎜- ─ - ──⎟: 1, w₀⋅⎜- ─ + ──⎟: 1⎬\n",
       "⎩   ⎝  2   2 ⎠        ⎝  2   2 ⎠   ⎭"
      ]
     },
     "execution_count": 1,
     "metadata": {},
     "output_type": "execute_result"
    }
   ],
   "source": [
    "import sympy\n",
    "sympy.init_printing()\n",
    "p = sympy.Symbol('p')\n",
    "\n",
    "w0 = sympy.Symbol('w0')\n",
    "Den = 1+3*p/w0+p**2/w0**2\n",
    "w = sympy.roots(Den,p)\n",
    "w"
   ]
  },
  {
   "cell_type": "markdown",
   "metadata": {},
   "source": [
    "En application numérique, pour $R=100 k\\Omega$ et $C = 1 \\mu F$, nous avons $\\omega_0 = 100 rad/s$"
   ]
  },
  {
   "cell_type": "code",
   "execution_count": 2,
   "metadata": {},
   "outputs": [
    {
     "data": {
      "image/png": "[encoded data removed]",
      "text/latex": [
       "$$\\left \\{ -26.180339887499 : 1, \\quad -3.81966011250105 : 1\\right \\}$$"
      ],
      "text/plain": [
       "{-26.180339887499: 1, -3.81966011250105: 1}"
      ]
     },
     "execution_count": 2,
     "metadata": {},
     "output_type": "execute_result"
    }
   ],
   "source": [
    "w0=10.0\n",
    "Den = 1+3*p/w0+p**2/w0**2\n",
    "w = sympy.roots(Den,p)\n",
    "w"
   ]
  },
  {
   "cell_type": "markdown",
   "metadata": {},
   "source": [
    "Ce qui nous permet de conclure que les deux pulsations sont $\\omega_1=261.8 rad/s$ et $\\omega_2=38.2 rad/s$ au lieu de 100 rad/s"
   ]
  },
  {
   "cell_type": "markdown",
   "metadata": {},
   "source": [
    "### Cas 2 ($R_1= 10k\\Omega, C_1 = 1\\mu F$) et ($R_2= 1k\\Omega, C_2 = 1\\mu F$)"
   ]
  },
  {
   "cell_type": "code",
   "execution_count": 35,
   "metadata": {},
   "outputs": [
    {
     "data": {
      "image/png": "[encoded data removed]",
      "text/latex": [
       "$$\\left \\{ -2051.24921972504 : 1, \\quad -48.7507802749607 : 1\\right \\}$$"
      ],
      "text/plain": [
       "{-2051.24921972504: 1, -48.7507802749607: 1}"
      ]
     },
     "execution_count": 35,
     "metadata": {},
     "output_type": "execute_result"
    }
   ],
   "source": [
    "R1=10000.0\n",
    "R2=1000.0\n",
    "C1=1e-6\n",
    "C2=1e-6\n",
    "Den= 1 + (R2*C2 +R1*(C1+C2))*p + R1*R2*C1*C2*p**2\n",
    "w = sympy.roots(Den,p)\n",
    "w\n"
   ]
  },
  {
   "cell_type": "markdown",
   "metadata": {},
   "source": [
    "Cette fois-ci les pulsations initialement de $100 rad/s$ et $1000 rad/s$ sont transformées en $2051.25 rad/s$ et $48.75 rad/s$. "
   ]
  },
  {
   "cell_type": "markdown",
   "metadata": {},
   "source": [
    "1. Donner la structure et la fonction de transfert d'un passe-haut d'ordre 2.\n",
    "2. Donner la structure et la fonction de transfert d'un passe-bande d'ordre 2. \n",
    "3. Donner la structure et la fonction de transfert d'un passe-bas d'ordre 3."
   ]
  },
  {
   "cell_type": "markdown",
   "metadata": {},
   "source": [
    "## Effet de la variation de la charge\n",
    "Les calculs précédents ont été faits en considérant une charge infini. Que se passe-t-il si on ajoute une résistance $Rc=1k\\Omega$ en parallèle du condensateur du second étage."
   ]
  },
  {
   "cell_type": "markdown",
   "metadata": {},
   "source": [
    "## Filtre passe-bande\n",
    "Un filtre passe-bande ne laisse passer que les fréquences dans une bande bien spécifique située dans l'intervalle $\\left[ \\omega_1 \\omega_2 \\right]$. Il est en quelque sorte une combinaison d'un passe-bas (R-C) et d'un passe-haut (R-L) mis en cascade. Une application importante des filtres passe-bande concerne l'audio et les systèmes de télécom, quand on veut laisser passer un bande de fréquences (par exemple une station radio) et filtrer les parasites et les autres signaux (par exemple le signal émis par une autre station). "
   ]
  },
  {
   "cell_type": "markdown",
   "metadata": {},
   "source": [
    "## Etude en simulation\n",
    "\n",
    "Ouvir l'outil MULTISIM puis le fichier passe-bas. Une autre alternative est de créer un compte sur le site du fournisseur Digikey et de lancer l'outil de simulation en ligne \n",
    "\n",
    "- https://www.partsim.com/\n",
    "\n",
    "Les différentes fenêtres d'interface apparaissent ci-dessus\n",
    "\n",
    "- Espace utilisateur\n",
    "<img src=\"./images/Lab2/partsim3.png\" />\n",
    "\n",
    "- Schematics pour la saisie du montage\n",
    "<img src=\"./images/Lab2/partsim1.png\" />\n",
    "\n",
    "- Résultats de simulation en AC-SWEEP, tracé du diagramme de Bode\n",
    "<img src=\"./images/Lab2/partsim2.png\" />\n",
    "\n",
    "\n",
    "1. Tracer la fonction de tranfert du filtre passe-bas d'ordre 2.\n",
    "2. Vérifier la valeur des deux pulsations de coupure. \n",
    "3. Etudier la sensibilité de la pulsation aux variations des résistances.\n",
    "\n",
    "\n"
   ]
  },
  {
   "cell_type": "markdown",
   "metadata": {},
   "source": [
    "# Filtres actifs "
   ]
  },
  {
   "cell_type": "markdown",
   "metadata": {},
   "source": [
    "Les filtres passifs rendent d'énormes services et sont encore beaucoup utilisées dans de nombreux domaines à des coûts réduits. Il présentent des inconvénients comme nous l'avons vu plus haut, la changement de la valeur de la charge affecte par exemple la fréquence de coupure. Les fitres actifs lévent cette difficulté. Ils comportent un composant actif principalement à base d'amplificateur opérationnel ou de tanssistor. De plus, le filtre actif apporte la facilité d'isoler les étages mis en cascade entre eux (impédance de sortie faible du montage amont et impédance d'entrée élevée du montage aval). Il offrent aussi la possibilité d'ajouter un gain au montage. \n",
    "\n",
    "Les filtres actifs sont souvent présentés sous formce de cellule du second ordre (Sallen Kay par exemple) qui sont alors mise en cascade comme lorsqu'on factorise une fonction de transfert après calcul des pôles. \n",
    "\n",
    "On peut les utiliser pour réaliser tous types de filtres avec les différentes approximations : Butterworth, Chebychev, Cauer,..."
   ]
  },
  {
   "cell_type": "markdown",
   "metadata": {},
   "source": [
    "La figure ci-dessous présente un"
   ]
  },
  {
   "cell_type": "markdown",
   "metadata": {},
   "source": [
    "<img src=\"./images/Lab2/5.png\" />"
   ]
  },
  {
   "cell_type": "markdown",
   "metadata": {},
   "source": [
    "<img src=\"./images/Lab2/8.png\" />"
   ]
  },
  {
   "cell_type": "markdown",
   "metadata": {},
   "source": [
    "## Etude pratique"
   ]
  },
  {
   "cell_type": "markdown",
   "metadata": {},
   "source": [
    "<img src=\"./images/Lab2/6.png\" />"
   ]
  },
  {
   "cell_type": "markdown",
   "metadata": {},
   "source": [
    "<img src=\"./images/Lab2/7.png\" />"
   ]
  },
  {
   "cell_type": "code",
   "execution_count": null,
   "metadata": {},
   "outputs": [],
   "source": []
  }
 ],
 "metadata": {
  "kernelspec": {
   "display_name": "Python 3",
   "language": "python",
   "name": "python3"
  },
  "language_info": {
   "codemirror_mode": {
    "name": "ipython",
    "version": 3
   },
   "file_extension": ".py",
   "mimetype": "text/x-python",
   "name": "python",
   "nbconvert_exporter": "python",
   "pygments_lexer": "ipython3",
   "version": "3.6.4"
  }
 },
 "nbformat": 4,
 "nbformat_minor": 2
}
